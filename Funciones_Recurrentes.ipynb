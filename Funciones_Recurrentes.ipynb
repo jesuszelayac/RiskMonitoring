{
 "cells": [
  {
   "cell_type": "markdown",
   "id": "ce296fe5",
   "metadata": {},
   "source": [
    "# Objetivo:\n",
    "\n",
    "El Objetivo de este notebook es compartir las funciones recurrentes que uso en mi dia a dia como risk data scientist."
   ]
  },
  {
   "cell_type": "markdown",
   "id": "eba0f8d5",
   "metadata": {},
   "source": [
    "#### Previo:\n",
    "\n",
    "Cargaremos un dataset de ejemplo que nos provee la libreria catboost el cual es el Amazon Employee Access Challenge se introdujo como parte de una competición organizada por Kaggle.\n",
    "\n",
    "El objetivo de la competencia era predecir si se concedería o no la solicitud de un empleado de Amazon para acceder a cierto recurso.\n",
    "\n",
    "El conjunto de datos es una forma anonimizada de tales solicitudes con una variable binaria que indica si se concedió el acceso o no. Cada fila corresponde a una solicitud de acceso distinta, y cada columna corresponde a una característica anonimizada, que podría ser cualquier tipo de información proporcionada en la solicitud.\n",
    "\n",
    "La columna 'ACTION' es la variable objetivo. Un valor de 1 significa que se aprobó la solicitud de acceso, y un valor de 0 significa que la solicitud fue denegada. Este es un problema de clasificación binaria: el objetivo es predecir con precisión si se aprobará o denegará una futura solicitud de acceso, dada cierta información."
   ]
  },
  {
   "cell_type": "code",
   "execution_count": 1,
   "id": "4df9a606",
   "metadata": {
    "scrolled": true
   },
   "outputs": [
    {
     "name": "stdout",
     "output_type": "stream",
     "text": [
      "Requirement already satisfied: catboost in c:\\users\\jesus\\anaconda3\\lib\\site-packages (1.2)\n",
      "Requirement already satisfied: scipy in c:\\users\\jesus\\anaconda3\\lib\\site-packages (from catboost) (1.9.1)\n",
      "Requirement already satisfied: graphviz in c:\\users\\jesus\\anaconda3\\lib\\site-packages (from catboost) (0.20.1)\n",
      "Requirement already satisfied: matplotlib in c:\\users\\jesus\\anaconda3\\lib\\site-packages (from catboost) (3.5.2)\n",
      "Requirement already satisfied: numpy>=1.16.0 in c:\\users\\jesus\\anaconda3\\lib\\site-packages (from catboost) (1.21.5)\n",
      "Requirement already satisfied: plotly in c:\\users\\jesus\\anaconda3\\lib\\site-packages (from catboost) (5.9.0)\n",
      "Requirement already satisfied: six in c:\\users\\jesus\\anaconda3\\lib\\site-packages (from catboost) (1.16.0)\n",
      "Requirement already satisfied: pandas>=0.24 in c:\\users\\jesus\\anaconda3\\lib\\site-packages (from catboost) (1.4.4)\n",
      "Requirement already satisfied: python-dateutil>=2.8.1 in c:\\users\\jesus\\anaconda3\\lib\\site-packages (from pandas>=0.24->catboost) (2.8.2)\n",
      "Requirement already satisfied: pytz>=2020.1 in c:\\users\\jesus\\anaconda3\\lib\\site-packages (from pandas>=0.24->catboost) (2022.1)\n",
      "Requirement already satisfied: pyparsing>=2.2.1 in c:\\users\\jesus\\anaconda3\\lib\\site-packages (from matplotlib->catboost) (3.0.9)\n",
      "Requirement already satisfied: cycler>=0.10 in c:\\users\\jesus\\anaconda3\\lib\\site-packages (from matplotlib->catboost) (0.11.0)\n",
      "Requirement already satisfied: pillow>=6.2.0 in c:\\users\\jesus\\anaconda3\\lib\\site-packages (from matplotlib->catboost) (9.2.0)\n",
      "Requirement already satisfied: fonttools>=4.22.0 in c:\\users\\jesus\\anaconda3\\lib\\site-packages (from matplotlib->catboost) (4.25.0)\n",
      "Requirement already satisfied: packaging>=20.0 in c:\\users\\jesus\\anaconda3\\lib\\site-packages (from matplotlib->catboost) (21.3)\n",
      "Requirement already satisfied: kiwisolver>=1.0.1 in c:\\users\\jesus\\anaconda3\\lib\\site-packages (from matplotlib->catboost) (1.4.2)\n",
      "Requirement already satisfied: tenacity>=6.2.0 in c:\\users\\jesus\\anaconda3\\lib\\site-packages (from plotly->catboost) (8.0.1)\n"
     ]
    }
   ],
   "source": [
    "!pip install catboost"
   ]
  },
  {
   "cell_type": "code",
   "execution_count": 2,
   "id": "0241ba61",
   "metadata": {},
   "outputs": [],
   "source": [
    "from catboost import datasets, CatBoostClassifier, Pool\n",
    "from sklearn.metrics import accuracy_score\n",
    "from sklearn.model_selection import train_test_split\n",
    "\n",
    "# Load dataset\n",
    "train_df, test_df = datasets.amazon()"
   ]
  },
  {
   "cell_type": "code",
   "execution_count": 3,
   "id": "661b520a",
   "metadata": {},
   "outputs": [
    {
     "data": {
      "text/html": [
       "<div>\n",
       "<style scoped>\n",
       "    .dataframe tbody tr th:only-of-type {\n",
       "        vertical-align: middle;\n",
       "    }\n",
       "\n",
       "    .dataframe tbody tr th {\n",
       "        vertical-align: top;\n",
       "    }\n",
       "\n",
       "    .dataframe thead th {\n",
       "        text-align: right;\n",
       "    }\n",
       "</style>\n",
       "<table border=\"1\" class=\"dataframe\">\n",
       "  <thead>\n",
       "    <tr style=\"text-align: right;\">\n",
       "      <th></th>\n",
       "      <th>ACTION</th>\n",
       "      <th>RESOURCE</th>\n",
       "      <th>MGR_ID</th>\n",
       "      <th>ROLE_ROLLUP_1</th>\n",
       "      <th>ROLE_ROLLUP_2</th>\n",
       "      <th>ROLE_DEPTNAME</th>\n",
       "      <th>ROLE_TITLE</th>\n",
       "      <th>ROLE_FAMILY_DESC</th>\n",
       "      <th>ROLE_FAMILY</th>\n",
       "      <th>ROLE_CODE</th>\n",
       "    </tr>\n",
       "  </thead>\n",
       "  <tbody>\n",
       "    <tr>\n",
       "      <th>0</th>\n",
       "      <td>1</td>\n",
       "      <td>39353</td>\n",
       "      <td>85475</td>\n",
       "      <td>117961</td>\n",
       "      <td>118300</td>\n",
       "      <td>123472</td>\n",
       "      <td>117905</td>\n",
       "      <td>117906</td>\n",
       "      <td>290919</td>\n",
       "      <td>117908</td>\n",
       "    </tr>\n",
       "    <tr>\n",
       "      <th>1</th>\n",
       "      <td>1</td>\n",
       "      <td>17183</td>\n",
       "      <td>1540</td>\n",
       "      <td>117961</td>\n",
       "      <td>118343</td>\n",
       "      <td>123125</td>\n",
       "      <td>118536</td>\n",
       "      <td>118536</td>\n",
       "      <td>308574</td>\n",
       "      <td>118539</td>\n",
       "    </tr>\n",
       "    <tr>\n",
       "      <th>2</th>\n",
       "      <td>1</td>\n",
       "      <td>36724</td>\n",
       "      <td>14457</td>\n",
       "      <td>118219</td>\n",
       "      <td>118220</td>\n",
       "      <td>117884</td>\n",
       "      <td>117879</td>\n",
       "      <td>267952</td>\n",
       "      <td>19721</td>\n",
       "      <td>117880</td>\n",
       "    </tr>\n",
       "    <tr>\n",
       "      <th>3</th>\n",
       "      <td>1</td>\n",
       "      <td>36135</td>\n",
       "      <td>5396</td>\n",
       "      <td>117961</td>\n",
       "      <td>118343</td>\n",
       "      <td>119993</td>\n",
       "      <td>118321</td>\n",
       "      <td>240983</td>\n",
       "      <td>290919</td>\n",
       "      <td>118322</td>\n",
       "    </tr>\n",
       "    <tr>\n",
       "      <th>4</th>\n",
       "      <td>1</td>\n",
       "      <td>42680</td>\n",
       "      <td>5905</td>\n",
       "      <td>117929</td>\n",
       "      <td>117930</td>\n",
       "      <td>119569</td>\n",
       "      <td>119323</td>\n",
       "      <td>123932</td>\n",
       "      <td>19793</td>\n",
       "      <td>119325</td>\n",
       "    </tr>\n",
       "  </tbody>\n",
       "</table>\n",
       "</div>"
      ],
      "text/plain": [
       "   ACTION  RESOURCE  MGR_ID  ROLE_ROLLUP_1  ROLE_ROLLUP_2  ROLE_DEPTNAME  \\\n",
       "0       1     39353   85475         117961         118300         123472   \n",
       "1       1     17183    1540         117961         118343         123125   \n",
       "2       1     36724   14457         118219         118220         117884   \n",
       "3       1     36135    5396         117961         118343         119993   \n",
       "4       1     42680    5905         117929         117930         119569   \n",
       "\n",
       "   ROLE_TITLE  ROLE_FAMILY_DESC  ROLE_FAMILY  ROLE_CODE  \n",
       "0      117905            117906       290919     117908  \n",
       "1      118536            118536       308574     118539  \n",
       "2      117879            267952        19721     117880  \n",
       "3      118321            240983       290919     118322  \n",
       "4      119323            123932        19793     119325  "
      ]
     },
     "execution_count": 3,
     "metadata": {},
     "output_type": "execute_result"
    }
   ],
   "source": [
    "train_df.head()"
   ]
  },
  {
   "cell_type": "code",
   "execution_count": 6,
   "id": "8b506cc4",
   "metadata": {},
   "outputs": [],
   "source": [
    "# Define target variable\n",
    "y = train_df[\"ACTION\"]\n",
    "\n",
    "# Drop target variable from the train set\n",
    "X = train_df.drop(\"ACTION\", axis=1)\n",
    "\n",
    "# Split dataset into train and validation parts\n",
    "X_train, X_validation, y_train, y_validation = train_test_split(X, y, train_size=0.8, random_state=42)"
   ]
  },
  {
   "cell_type": "markdown",
   "id": "c781f93c",
   "metadata": {},
   "source": [
    "Nota : En el anteior codigo los terminos X_validation, y_validation son tambien conocidos en plantillas de modelos de riesgos como df_test, y_test o tambien df_oot, y_oot donde oot significa \"fuera de tiempo\" (out of time) el cual hace referencia a ejecutar el modelo sobre un periodo desde el cual no ha sido entrenado para ver como se comporta el performance del modelo"
   ]
  },
  {
   "cell_type": "code",
   "execution_count": 7,
   "id": "4e293c50",
   "metadata": {},
   "outputs": [
    {
     "data": {
      "text/plain": [
       "<catboost.core.CatBoostClassifier at 0x299ec54e7f0>"
      ]
     },
     "execution_count": 7,
     "metadata": {},
     "output_type": "execute_result"
    }
   ],
   "source": [
    "# Initialize CatBoostClassifier\n",
    "model = CatBoostClassifier(iterations=100, \n",
    "                           depth=2, \n",
    "                           learning_rate=0.1, \n",
    "                           loss_function='Logloss')\n",
    "\n",
    "# Fit model\n",
    "model.fit(X_train, y_train, eval_set=(X_validation, y_validation), verbose=False)"
   ]
  },
  {
   "cell_type": "code",
   "execution_count": 9,
   "id": "e1e18ef2",
   "metadata": {},
   "outputs": [
    {
     "name": "stdout",
     "output_type": "stream",
     "text": [
      "Accuracy Train: 94.17%\n",
      "Accuracy Validation: 94.37%\n"
     ]
    }
   ],
   "source": [
    "# Get predictions\n",
    "preds_class_train = model.predict(X_train)\n",
    "preds_class_validation = model.predict(X_validation)\n",
    "\n",
    "# Calculate accuracy\n",
    "acc_train = accuracy_score(y_train, preds_class_train)\n",
    "acc_validation = accuracy_score(y_validation, preds_class_validation)\n",
    "\n",
    "print(\"Accuracy Train: {:.2f}%\".format(acc_train * 100))\n",
    "print(\"Accuracy Validation: {:.2f}%\".format(acc_validation * 100))"
   ]
  },
  {
   "cell_type": "markdown",
   "id": "ca691334",
   "metadata": {},
   "source": [
    "Nota : En el anterior codigo validation es tambien conocido en los modelos de riesgo como OOT o TEST"
   ]
  },
  {
   "cell_type": "markdown",
   "id": "a2042a22",
   "metadata": {},
   "source": [
    "##  Calculo de Indicadores GINI, KS, ROC"
   ]
  },
  {
   "cell_type": "code",
   "execution_count": 10,
   "id": "4a92e1fe",
   "metadata": {},
   "outputs": [],
   "source": [
    "from sklearn.metrics import roc_auc_score, roc_curve"
   ]
  },
  {
   "cell_type": "markdown",
   "id": "5eabb8a9",
   "metadata": {},
   "source": [
    "Nota: roc_auc_score(y_oot,y_pred_val) = roc_auc_score(y_validation, preds_class_validation)\n",
    "\n",
    "\n",
    "Nota: roc_auc_score(y_train,y_pred) = roc_auc_score(y_train, preds_class_train)"
   ]
  },
  {
   "cell_type": "code",
   "execution_count": 11,
   "id": "814e0d77",
   "metadata": {},
   "outputs": [
    {
     "name": "stdout",
     "output_type": "stream",
     "text": [
      "Gini Fuera Tiempo:  0.0\n",
      "Gini Desarrollo:  0.0\n"
     ]
    }
   ],
   "source": [
    "#GINI\n",
    "print(\"Gini Fuera Tiempo: \",2*roc_auc_score(y_validation, preds_class_validation)-1)\n",
    "print(\"Gini Desarrollo: \",2*roc_auc_score(y_train, preds_class_train)-1)"
   ]
  },
  {
   "cell_type": "code",
   "execution_count": 13,
   "id": "5b7414fb",
   "metadata": {},
   "outputs": [
    {
     "name": "stdout",
     "output_type": "stream",
     "text": [
      "ROC fuera Tiempo:  0.5\n",
      "ROC Desarrollo:  0.5\n"
     ]
    }
   ],
   "source": [
    "#ROC\n",
    "print(\"ROC fuera Tiempo: \",roc_auc_score(y_validation, preds_class_validation))\n",
    "print(\"ROC Desarrollo: \",roc_auc_score(y_train, preds_class_train))"
   ]
  },
  {
   "cell_type": "code",
   "execution_count": 15,
   "id": "2be1d6eb",
   "metadata": {},
   "outputs": [
    {
     "name": "stdout",
     "output_type": "stream",
     "text": [
      "KS fuera de tiempo: 0.0\n",
      "KS Desarrollo: 0.0\n"
     ]
    }
   ],
   "source": [
    "#KS\n",
    "import numpy as np\n",
    "\n",
    "def ks_statistic(y_true, y_scores):\n",
    "    fpr, tpr, thresholds = roc_curve(y_true, y_scores)\n",
    "    ks = np.max(tpr - fpr)\n",
    "    return ks\n",
    "\n",
    "ks = ks_statistic(y_validation, preds_class_validation)\n",
    "print('KS fuera de tiempo:', ks)\n",
    "ks2 = ks_statistic(y_train, preds_class_train)\n",
    "print('KS Desarrollo:', ks2)"
   ]
  },
  {
   "cell_type": "markdown",
   "id": "eecd66f2",
   "metadata": {},
   "source": [
    "## Calculo de Gini mensual"
   ]
  },
  {
   "cell_type": "code",
   "execution_count": null,
   "id": "6e6872c0",
   "metadata": {},
   "outputs": [],
   "source": [
    "from catboost import CatBoostClassifier\n",
    "#model es un CatBoostClassifier"
   ]
  },
  {
   "cell_type": "code",
   "execution_count": null,
   "id": "fa9b4b85",
   "metadata": {},
   "outputs": [],
   "source": [
    "#Lista de meses a calcular GINI\n",
    "periodos = (202106,202107,202108,202109,202110)\n",
    "\n",
    "#features\n",
    "var_x = []\n",
    "for col in df_train2.columns:\n",
    "    var_x.append(col)\n",
    "\n",
    "#GINI\n",
    "for i in periodos:\n",
    "    y_aux = df_desarrollo.loc[df_desarrollo['codmes']==i, 'tm60_12'].reset_index(drop=True)\n",
    "    #antes de predict va el objeto booster modelo\n",
    "    #Este es el caso se este usando un modelo de tipo catboost\n",
    "    y_pred = model.predict_proba(df_desarrollo.loc[df_desarrollo['codmes'] == i, var_x].reset_index(\n",
    "            drop=True))[:,1]\n",
    "    lr_auc = roc_auc_score(y_aux, y_pred)  \n",
    "    gini = 2*lr_auc-1\n",
    "    print('GINI '+str(i)+': '+str(gini))"
   ]
  },
  {
   "cell_type": "markdown",
   "id": "bbc6ff78",
   "metadata": {},
   "source": [
    "## Calculo de Score"
   ]
  },
  {
   "cell_type": "code",
   "execution_count": null,
   "id": "96cfd7f9",
   "metadata": {},
   "outputs": [],
   "source": [
    "y_pred_val=model.predict_proba(df_oot2)[:, 1]"
   ]
  },
  {
   "cell_type": "code",
   "execution_count": null,
   "id": "e8b8de72",
   "metadata": {},
   "outputs": [],
   "source": [
    "# Calculate the predicted score as the complement of y_pred_val, multiplied by 1000\n",
    "y_pred_val_1 = (1 - y_pred_val) * 1000\n",
    "\n",
    "# Round the predicted score to the nearest integer and assign it to a new column in the dataframe\n",
    "df_oot['score'] = np.round(y_pred_val_1)\n",
    "\n",
    "# Convert the values in the 'score_nobank_tc' column to integers\n",
    "df_oot[\"score\"] = df_oot[\"score\"].astype(\"int\")"
   ]
  },
  {
   "cell_type": "markdown",
   "id": "834edccd",
   "metadata": {},
   "source": [
    "## Tabla de Eficiencia"
   ]
  },
  {
   "attachments": {
    "tabla_eficiencia.PNG": {
     "image/png": "[encoded data removed]"
    }
   },
   "cell_type": "markdown",
   "id": "0bd4df6a",
   "metadata": {},
   "source": [
    "![tabla_eficiencia.PNG](attachment:tabla_eficiencia.PNG)"
   ]
  },
  {
   "cell_type": "code",
   "execution_count": null,
   "id": "bbeb7d8c",
   "metadata": {},
   "outputs": [],
   "source": [
    "#División en 5 \n",
    "df_oot['bucket_score'] = pd.qcut(df_oot['score_nobank_tc'], q=5, precision=0)"
   ]
  },
  {
   "cell_type": "markdown",
   "id": "b643f794",
   "metadata": {},
   "source": [
    "El resultado final debe ser algo asi"
   ]
  },
  {
   "attachments": {
    "image.png": {
     "image/png": "[encoded data removed]"
    }
   },
   "cell_type": "markdown",
   "id": "65635912",
   "metadata": {},
   "source": [
    "![image.png](attachment:image.png)"
   ]
  },
  {
   "cell_type": "markdown",
   "id": "62d0cc56",
   "metadata": {},
   "source": [
    "### Opción 1 si tiene poca data"
   ]
  },
  {
   "cell_type": "code",
   "execution_count": null,
   "id": "54939b96",
   "metadata": {},
   "outputs": [],
   "source": [
    "!pip install PivotTableJS"
   ]
  },
  {
   "cell_type": "code",
   "execution_count": null,
   "id": "949a115a",
   "metadata": {},
   "outputs": [],
   "source": [
    "#Usar esta ultima tabla con pivot_ui para ver los valores por buckets\n",
    "df_oot_2 = df_oot[['bucket_score','score_nobank_tc','tm60_12']].copy()"
   ]
  },
  {
   "cell_type": "code",
   "execution_count": null,
   "id": "9ea33460",
   "metadata": {},
   "outputs": [],
   "source": [
    "from pivottablejs import pivot_ui\n",
    "\n",
    "#Aqui seleccionar en la columna vertical los buckets y en la columna horizontal superior las columnas\n",
    "pivot_ui(df_oot_2)"
   ]
  },
  {
   "cell_type": "markdown",
   "id": "903b5b06",
   "metadata": {},
   "source": [
    "### Opción 2 si hay mucha data"
   ]
  },
  {
   "cell_type": "code",
   "execution_count": null,
   "id": "cfea19f2",
   "metadata": {},
   "outputs": [],
   "source": [
    "#Usar groupby"
   ]
  },
  {
   "cell_type": "code",
   "execution_count": null,
   "id": "6d871e79",
   "metadata": {},
   "outputs": [],
   "source": []
  },
  {
   "cell_type": "code",
   "execution_count": null,
   "id": "27e632b4",
   "metadata": {},
   "outputs": [],
   "source": []
  },
  {
   "cell_type": "code",
   "execution_count": null,
   "id": "0dd2f872",
   "metadata": {},
   "outputs": [],
   "source": []
  }
 ],
 "metadata": {
  "kernelspec": {
   "display_name": "Python 3 (ipykernel)",
   "language": "python",
   "name": "python3"
  },
  "language_info": {
   "codemirror_mode": {
    "name": "ipython",
    "version": 3
   },
   "file_extension": ".py",
   "mimetype": "text/x-python",
   "name": "python",
   "nbconvert_exporter": "python",
   "pygments_lexer": "ipython3",
   "version": "3.9.13"
  }
 },
 "nbformat": 4,
 "nbformat_minor": 5
}
